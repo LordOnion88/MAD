{
 "cells": [
  {
   "cell_type": "markdown",
   "metadata": {},
   "source": [
    "![Universidad Central](https://www.ucentral.edu.co/sites/default/files/inline-images/identificadores-Centrados_en_ti_logo-h.png)"
   ]
  },
  {
   "cell_type": "markdown",
   "metadata": {},
   "source": [
    "**Segmentación de clientes credito vehiculo**\n",
    "\n",
    "**Marketing Analytics** <br>\n",
    "\n",
    "Profesor: Hugo Alexander Martinez <br>\n",
    "Facultad de Ingeniería y Ciencias Básicas <br>\n",
    "Universidad Central <br>\n",
    "\n",
    "Daniel Mauricio Cardenas<br>\n"
   ]
  },
  {
   "cell_type": "markdown",
   "metadata": {},
   "source": [
    "# Metodologia de mineria de Datos - CRISP DM"
   ]
  },
  {
   "cell_type": "markdown",
   "metadata": {},
   "source": [
    "## Comprensión del negocio.\n",
    "\n",
    "- **Contexto**\n",
    "\n",
    "Según Segura, F. E. P., y Ayala, J. C. P. (2005), el crédito para vehículos en Colombia se originó en la década de 1970, impulsado principalmente por la creación de ensambladoras que generaron empleo en sectores populares. Este desarrollo contribuyó al crecimiento económico y a la creciente necesidad de adquirir vehículos. Las entidades financieras vieron en esta situación una oportunidad de negocio debido a la alta demanda, ofreciendo créditos caracterizados por su alto valor, tasas de interés elevadas y garantías respaldadas por el mismo activo, además de contar con uno o varios codeudores. Con el tiempo, los bancos comenzaron a crear líneas de crédito especializadas para este sector.\n",
    "\n",
    "Para 2024, la oferta de créditos para la adquisición de vehículos en Colombia es bastante amplia, y las tasas de interés varían según el tipo de vehículo, ya sea nuevo o usado, así como si es híbrido, eléctrico o de combustión fósil.\n",
    "\n",
    "![Tasas de interes vehiculos](https://img.lalr.co/cms/2024/04/08165245/web_900_finanzas_autos_p21.jpg) <br>\n",
    "[Fuente](https://www.larepublica.co/finanzas/estas-son-las-tasas-de-interes-que-ofrecen-las-entidades-para-los-creditos-de-vehiculos-3836450)\n",
    "\n",
    "La financiación puede alcanzar hasta el 100% del valor del vehículo, con un plazo máximo de hasta 7 años (84 meses). Actualmente, Bancolombia ofrece la tasa más baja del mercado para la adquisición de vehículos eléctricos, con un 14.71% E.A., seguida de Davivienda con un 15.12% E.A. En términos generales, las tasas en el mercado rondan un promedio del 17% E.A\n",
    "\n",
    "De acuerdo con el DANE, en el primer trimestre de \n",
    "\n",
    "- **Objetivos del negocio**\n",
    "\n",
    "\n",
    "\n"
   ]
  },
  {
   "cell_type": "markdown",
   "metadata": {},
   "source": []
  },
  {
   "cell_type": "markdown",
   "metadata": {},
   "source": [
    "## Analisis Exploratorio de los datos.\n",
    "\n",
    "A continuación se realiza el analisis exploratorio de los datos, de acuerdo con el cuestionario **Crédito Vehículo - Potenciales**"
   ]
  },
  {
   "cell_type": "code",
   "execution_count": null,
   "metadata": {},
   "outputs": [],
   "source": [
    "import pandas as pd\n",
    "import matplotlib.pyplot as plt\n",
    "import seaborn as sns\n",
    "import numpy as np\n",
    "import plotly.express as px"
   ]
  },
  {
   "cell_type": "code",
   "execution_count": null,
   "metadata": {},
   "outputs": [],
   "source": [
    "url = ''"
   ]
  },
  {
   "cell_type": "markdown",
   "metadata": {},
   "source": [
    "## Referencias\n",
    "\n",
    "`SEGURA, F. E. P., & AYALA, J. C. P. ORIGINACION DE CREDITOS DE VEHICULOS PARTICULARES EN COLOMBIA-NEGOCIO PARA REDISEÑAR.`"
   ]
  }
 ],
 "metadata": {
  "kernelspec": {
   "display_name": "Python 3",
   "language": "python",
   "name": "python3"
  },
  "language_info": {
   "name": "python",
   "version": "3.10.12"
  }
 },
 "nbformat": 4,
 "nbformat_minor": 2
}
